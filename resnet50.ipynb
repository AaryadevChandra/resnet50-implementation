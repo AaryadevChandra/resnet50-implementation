{
 "cells": [
  {
   "cell_type": "code",
   "execution_count": 33,
   "id": "4d2ceeaf-3673-423b-9b57-451f0e75057c",
   "metadata": {},
   "outputs": [],
   "source": [
    "import cv2\n",
    "import glob\n",
    "import torch\n",
    "import random\n",
    "import numpy as np\n",
    "from torch import nn\n",
    "import matplotlib.pyplot as plt"
   ]
  },
  {
   "cell_type": "code",
   "execution_count": 34,
   "id": "7e415a5c-547b-435f-9a5c-92908f39cc12",
   "metadata": {},
   "outputs": [],
   "source": [
    "# z = torch.randn(100, 3, 224, 224)"
   ]
  },
  {
   "cell_type": "code",
   "execution_count": 35,
   "id": "4f5090f3-820d-4bdf-a2a6-f702ae6b2f4a",
   "metadata": {},
   "outputs": [],
   "source": [
    "model_resize_shape = (224, 224)"
   ]
  },
  {
   "cell_type": "code",
   "execution_count": 36,
   "id": "e8dc7bec-ce7f-4e39-ade6-d53db4b72e68",
   "metadata": {},
   "outputs": [],
   "source": [
    "cat_folder_path = \"./cats/\"\n",
    "jpg_files = glob.glob(cat_folder_path + \"/*.jpg\")\n",
    "cat_arr = []\n",
    "\n",
    "for file_path in jpg_files:\n",
    "    img = cv2.imread(file_path)\n",
    "    img_rgb = cv2.cvtColor(img, cv2.COLOR_BGR2RGB)\n",
    "    if ( img_rgb.shape[0] >= model_resize_shape[0] and img_rgb.shape[1] >= model_resize_shape[1]):\n",
    "        resized_cat_img = cv2.resize(img_rgb, (model_resize_shape[0], model_resize_shape[1]))\n",
    "    \n",
    "        cat_arr.append(np.array(resized_cat_img).reshape(-1, model_resize_shape[0], model_resize_shape[1]))"
   ]
  },
  {
   "cell_type": "code",
   "execution_count": 37,
   "id": "980edc30-6824-479c-b66d-7859c816947f",
   "metadata": {},
   "outputs": [],
   "source": [
    "dog_folder_path = \"./dogs/\"\n",
    "jpg_files = glob.glob(dog_folder_path + \"/*.jpg\")\n",
    "dog_arr = []\n",
    "\n",
    "for file_path in jpg_files:\n",
    "    img = cv2.imread(file_path)\n",
    "    img_rgb = cv2.cvtColor(img, cv2.COLOR_BGR2RGB)\n",
    "    if ( img_rgb.shape[0] >= model_resize_shape[0] and img_rgb.shape[1] >= model_resize_shape[1]):\n",
    "        resized_dog_img = cv2.resize(img_rgb, (model_resize_shape[0], model_resize_shape[1]))\n",
    "    \n",
    "        dog_arr.append(np.array(resized_dog_img).reshape(-1, model_resize_shape[0], model_resize_shape[1]))\n",
    "    "
   ]
  },
  {
   "cell_type": "code",
   "execution_count": 38,
   "id": "92ff5caf-0fa9-4f82-b0a7-0f0a448a1cce",
   "metadata": {},
   "outputs": [],
   "source": [
    "\n",
    "cats_dogs_imgs = dog_arr + cat_arr \n",
    "output_labels = [1 for _ in dog_arr] + [0 for _ in cat_arr]\n",
    "\n",
    "# Combine the lists using zip\n",
    "combined_lists = list(zip(cats_dogs_imgs, output_labels))\n",
    "\n",
    "# Shuffle the combined list\n",
    "random.shuffle(combined_lists)\n",
    "\n",
    "# Unzip the shuffled list\n",
    "cats_dogs_imgs_shuffled, output_labels_shuffled = zip(*combined_lists)\n",
    "\n"
   ]
  },
  {
   "cell_type": "code",
   "execution_count": 39,
   "id": "80c5d223-92a1-4760-a3dd-60f9c9287fd5",
   "metadata": {},
   "outputs": [],
   "source": [
    "X_tensor = torch.from_numpy(np.array(cats_dogs_imgs_shuffled))\n",
    "Y_tensor = torch.from_numpy(np.array(output_labels_shuffled))"
   ]
  },
  {
   "cell_type": "code",
   "execution_count": 40,
   "id": "617a3d46-aee7-4329-aa57-549ee197175e",
   "metadata": {},
   "outputs": [],
   "source": [
    "class ResnetConvBlock(nn.Module):\n",
    "\n",
    "    def __init__(self, in_channels, out_channels):\n",
    "        super().__init__()\n",
    "        self.conv_layer1 = nn.Conv2d(in_channels, out_channels, kernel_size=1, stride=1)\n",
    "        self.bn_layer1 = nn.BatchNorm2d(num_features=out_channels)\n",
    "        self.conv_layer2 = nn.Conv2d(out_channels, out_channels, kernel_size=3, stride=1)\n",
    "        self.bn_layer2 = nn.BatchNorm2d(out_channels)\n",
    "        self.conv_layer3 = nn.Conv2d(out_channels, out_channels * 2, kernel_size=1, stride=1)\n",
    "        self.relu = nn.ReLU()\n",
    "        \n",
    "        self.identity_conv1x1 = nn.Conv2d(in_channels, out_channels, kernel_size=1, stride=1)\n",
    "        self.identity_bn = nn.BatchNorm2d(out_channels)\n",
    "\n",
    "    def forward(self, x):\n",
    "\n",
    "        identity = x\n",
    "\n",
    "        x = self.conv_layer1(x)\n",
    "        x = self.bn_layer1(x)\n",
    "        x = self.relu(x)\n",
    "\n",
    "        x = self.conv_layer2(x)\n",
    "        x = self.bn_layer2(x)\n",
    "        x = self.relu(x)\n",
    "\n",
    "        # identity dimension mismatch fix\n",
    "        identity = self.identity_conv1x1(identity)\n",
    "        identity = self.identity_bn(identity)\n",
    "\n",
    "        x = torch.nn.functional.pad(x, (1, 1, 1, 1))\n",
    "\n",
    "        x += identity\n",
    "        x = self.relu(x)\n",
    "\n",
    "        return x\n",
    "        "
   ]
  },
  {
   "cell_type": "code",
   "execution_count": 41,
   "id": "7dd5ff1c-9380-4a3e-bb57-261d4d317919",
   "metadata": {},
   "outputs": [],
   "source": [
    "class ResnetIdentityBlock(nn.Module):\n",
    "\n",
    "    def __init__(self, in_channels):\n",
    "        super().__init__()\n",
    "        self.relu = nn.ReLU()\n",
    "        self.conv_layer1x1 = nn.Conv2d(in_channels, in_channels, kernel_size=1, stride=1)\n",
    "        self.bn_layer = nn.BatchNorm2d(num_features=in_channels)\n",
    "        self.relu = nn.ReLU()\n",
    "        self.conv_layer3x3 = nn.Conv2d(in_channels, in_channels, kernel_size=3, stride=1)\n",
    "\n",
    "    def forward(self, x):\n",
    "        identity = x\n",
    "        x = self.conv_layer1x1(x)\n",
    "        x = self.bn_layer(x)\n",
    "        x = self.relu(x)\n",
    "        \n",
    "        x = self.conv_layer3x3(x)\n",
    "        x = self.bn_layer(x)\n",
    "        x = self.relu(x)\n",
    "\n",
    "        x = self.conv_layer1x1(x)\n",
    "        x = self.bn_layer(x)\n",
    "\n",
    "        x = torch.nn.functional.pad(x, (1, 1, 1, 1))\n",
    "\n",
    "        x += identity\n",
    "        x = self.relu(x)\n",
    "\n",
    "        \n",
    "        return x"
   ]
  },
  {
   "cell_type": "code",
   "execution_count": 42,
   "id": "f06bcd6b-d390-4323-9b77-aa7203c0904e",
   "metadata": {},
   "outputs": [],
   "source": [
    "class Resnet50(nn.Module):\n",
    "\n",
    "    def __init__(self):\n",
    "        super().__init__()\n",
    "        self.conv_layer1 = nn.Conv2d(3, 8, kernel_size=7, stride=2)\n",
    "        self.bn_layer1 = nn.BatchNorm2d(num_features=8)\n",
    "        self.relu = nn.ReLU()\n",
    "        self.maxpool_layer1 = nn.MaxPool2d(kernel_size=3, stride=2)\n",
    "\n",
    "        self.conv_block_I = ResnetConvBlock(8, 16)\n",
    "        self.identity_block_I = ResnetIdentityBlock(16)\n",
    "        self.conv_block_II = ResnetConvBlock(16, 32)\n",
    "        self.identity_block_II = ResnetIdentityBlock(32)\n",
    "        self.conv_block_III = ResnetConvBlock(32, 64)\n",
    "        self.identity_block_III = ResnetIdentityBlock(64)\n",
    "        self.conv_block_IV = ResnetConvBlock(64, 128)\n",
    "        self.identity_block_IV = ResnetIdentityBlock(128)\n",
    "\n",
    "        self.avgpooling = nn.AvgPool2d(kernel_size=3, stride=7)\n",
    "        self.linear_container = nn.Sequential(\n",
    "            nn.Linear(8192, 4096),\n",
    "            nn.ReLU(),\n",
    "            nn.Linear(4096, 2048),\n",
    "            nn.ReLU(),\n",
    "            nn.Linear(2048, 1204),\n",
    "            nn.ReLU(),\n",
    "            nn.Linear(1204, 512),\n",
    "            nn.ReLU(),\n",
    "            nn.Linear(512, 256),\n",
    "            nn.ReLU(),\n",
    "            nn.Linear(256, 128),\n",
    "            nn.ReLU(),\n",
    "            nn.Linear(128, 64),\n",
    "            nn.ReLU(),\n",
    "            nn.Linear(64, 32),\n",
    "            nn.ReLU(),\n",
    "            nn.Linear(32, 2),\n",
    "            nn.Softmax(dim=0),\n",
    "        )\n",
    "\n",
    "    def forward(self, x): \n",
    "        \n",
    "        batch_size = x.shape[0]\n",
    "        \n",
    "        x = self.conv_layer1(x)\n",
    "        x = self.bn_layer1(x)\n",
    "        x = self.relu(x)\n",
    "        x = self.maxpool_layer1(x)\n",
    "\n",
    "        x = self.conv_block_I(x)\n",
    "        x = self.identity_block_I(x)\n",
    "        x = self.identity_block_I(x)\n",
    "        \n",
    "        x = self.conv_block_II(x)\n",
    "        x = self.identity_block_II(x)\n",
    "        x = self.identity_block_II(x)\n",
    "        x = self.identity_block_II(x)\n",
    "\n",
    "        x = self.conv_block_III(x)\n",
    "        x = self.identity_block_III(x)\n",
    "        x = self.identity_block_III(x)\n",
    "        x = self.identity_block_III(x)\n",
    "        x = self.identity_block_III(x)\n",
    "        x = self.identity_block_III(x)\n",
    "\n",
    "        x = self.conv_block_IV(x)\n",
    "        x = self.identity_block_IV(x)\n",
    "        x = self.identity_block_IV(x)\n",
    "        x = self.identity_block_IV(x)\n",
    "\n",
    "        x = self.avgpooling(x)\n",
    "        x = self.linear_container(x.view(batch_size, -1))\n",
    "        \n",
    "        return x"
   ]
  },
  {
   "cell_type": "code",
   "execution_count": 43,
   "id": "71af0e6f-1a07-4953-b8cf-a7e2833f0f6c",
   "metadata": {},
   "outputs": [],
   "source": [
    "resnet50 = Resnet50()"
   ]
  },
  {
   "cell_type": "code",
   "execution_count": null,
   "id": "16023e42-0369-49ca-8335-bfa1a76637a7",
   "metadata": {},
   "outputs": [],
   "source": []
  },
  {
   "cell_type": "code",
   "execution_count": 44,
   "id": "9d21bde8-83bf-493b-a00b-46f07b59ea58",
   "metadata": {},
   "outputs": [],
   "source": [
    "loss_fn = nn.CrossEntropyLoss()\n",
    "optimizer = torch.optim.Adam(resnet50.parameters(), lr=3e-3)"
   ]
  },
  {
   "cell_type": "code",
   "execution_count": 45,
   "id": "c6bfc5f3-d8dc-49ca-90a8-32cf1e43af5a",
   "metadata": {},
   "outputs": [],
   "source": [
    "epochs = 100"
   ]
  },
  {
   "cell_type": "code",
   "execution_count": null,
   "id": "e771eec6-fdac-49aa-b507-3ca4c81b87b7",
   "metadata": {},
   "outputs": [
    {
     "name": "stdout",
     "output_type": "stream",
     "text": [
      "EPOCH 1 | LOSS 0.693147599697113\n"
     ]
    }
   ],
   "source": [
    "for i in range(epochs):\n",
    "    loss = loss_fn(resnet50(X_tensor[:100].float()), Y_tensor[:100])\n",
    "    print(f'EPOCH {i + 1} | LOSS {loss}')\n",
    "    loss.backward()\n",
    "    optimizer.step()\n",
    "    optimizer.zero_grad()"
   ]
  },
  {
   "cell_type": "code",
   "execution_count": null,
   "id": "7fee2213-3b84-4ba2-b3e3-578c24288592",
   "metadata": {},
   "outputs": [],
   "source": []
  },
  {
   "cell_type": "code",
   "execution_count": null,
   "id": "97d6890a-632e-4b2f-a745-97046da0a195",
   "metadata": {},
   "outputs": [],
   "source": []
  }
 ],
 "metadata": {
  "kernelspec": {
   "display_name": "Python 3 (ipykernel)",
   "language": "python",
   "name": "python3"
  },
  "language_info": {
   "codemirror_mode": {
    "name": "ipython",
    "version": 3
   },
   "file_extension": ".py",
   "mimetype": "text/x-python",
   "name": "python",
   "nbconvert_exporter": "python",
   "pygments_lexer": "ipython3",
   "version": "3.9.6"
  }
 },
 "nbformat": 4,
 "nbformat_minor": 5
}
